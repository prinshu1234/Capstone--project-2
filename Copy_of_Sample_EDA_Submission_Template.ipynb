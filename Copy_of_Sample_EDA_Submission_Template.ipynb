{
  "nbformat": 4,
  "nbformat_minor": 0,
  "metadata": {
    "colab": {
      "private_outputs": true,
      "provenance": [],
      "collapsed_sections": [
        "vncDsAP0Gaoa",
        "FJNUwmbgGyua",
        "w6K7xa23Elo4",
        "yQaldy8SH6Dl",
        "PH-0ReGfmX4f",
        "mDgbUHAGgjLW",
        "O_i_v8NEhb9l",
        "HhfV-JJviCcP",
        "Y3lxredqlCYt",
        "3RnN4peoiCZX",
        "x71ZqKXriCWQ",
        "7hBIi_osiCS2",
        "JlHwYmJAmNHm",
        "35m5QtbWiB9F",
        "PoPl-ycgm1ru",
        "H0kj-8xxnORC",
        "nA9Y7ga8ng1Z",
        "PBTbrJXOngz2",
        "u3PMJOP6ngxN",
        "dauF4eBmngu3",
        "bKJF3rekwFvQ",
        "MSa1f5Uengrz",
        "GF8Ens_Soomf",
        "0wOQAZs5pc--",
        "K5QZ13OEpz2H",
        "lQ7QKXXCp7Bj",
        "448CDAPjqfQr",
        "KSlN3yHqYklG",
        "t6dVpIINYklI",
        "ijmpgYnKYklI",
        "-JiQyfWJYklI",
        "EM7whBJCYoAo",
        "fge-S5ZAYoAp",
        "85gYPyotYoAp",
        "RoGjAbkUYoAp",
        "4Of9eVA-YrdM",
        "iky9q4vBYrdO",
        "F6T5p64dYrdO",
        "y-Ehk30pYrdP",
        "bamQiAODYuh1",
        "QHF8YVU7Yuh3",
        "GwzvFGzlYuh3",
        "qYpmQ266Yuh3",
        "OH-pJp9IphqM",
        "bbFf2-_FphqN",
        "_ouA3fa0phqN",
        "Seke61FWphqN",
        "PIIx-8_IphqN",
        "t27r6nlMphqO",
        "r2jJGEOYphqO",
        "b0JNsNcRphqO",
        "BZR9WyysphqO",
        "jj7wYXLtphqO",
        "eZrbJ2SmphqO",
        "rFu4xreNphqO",
        "YJ55k-q6phqO",
        "gCFgpxoyphqP",
        "OVtJsKN_phqQ",
        "lssrdh5qphqQ",
        "U2RJ9gkRphqQ",
        "1M8mcRywphqQ",
        "tgIPom80phqQ",
        "JMzcOPDDphqR",
        "x-EpHcCOp1ci",
        "X_VqEhTip1ck",
        "8zGJKyg5p1ck",
        "PVzmfK_Ep1ck",
        "n3dbpmDWp1ck",
        "ylSl6qgtp1ck",
        "ZWILFDl5p1ck",
        "M7G43BXep1ck",
        "Ag9LCva-p1cl",
        "E6MkPsBcp1cl",
        "2cELzS2fp1cl",
        "3MPXvC8up1cl",
        "NC_X3p0fY2L0",
        "UV0SzAkaZNRQ",
        "YPEH6qLeZNRQ",
        "q29F0dvdveiT",
        "EXh0U9oCveiU",
        "22aHeOlLveiV",
        "JcMwzZxoAimU",
        "8G2x9gOozGDZ",
        "gCX9965dhzqZ",
        "gIfDvo9L0UH2"
      ],
      "include_colab_link": true
    },
    "kernelspec": {
      "name": "python3",
      "display_name": "Python 3"
    },
    "language_info": {
      "name": "python"
    }
  },
  "cells": [
    {
      "cell_type": "markdown",
      "metadata": {
        "id": "view-in-github",
        "colab_type": "text"
      },
      "source": [
        "<a href=\"https://colab.research.google.com/github/prinshu1234/Capstone-project-2/blob/main/Copy_of_Sample_EDA_Submission_Template.ipynb\" target=\"_parent\"><img src=\"https://colab.research.google.com/assets/colab-badge.svg\" alt=\"Open In Colab\"/></a>"
      ]
    },
    {
      "cell_type": "markdown",
      "source": [
        "# **Project Name**    - **Hotel Booking Analysis**\n",
        "\n"
      ],
      "metadata": {
        "id": "vncDsAP0Gaoa"
      }
    },
    {
      "cell_type": "markdown",
      "source": [
        "**Project Type** - EDA\n",
        "\n",
        "\n",
        "\n",
        "\n",
        "\n",
        "**Contribution** - Individual"
      ],
      "metadata": {
        "id": "CLRz0GaphJj2"
      }
    },
    {
      "cell_type": "markdown",
      "source": [
        "##### **Project Type**    - EDA/Regression/Classification/Unsupervised\n",
        "##### **Contribution**    - Individual/Team\n",
        "##### **Team Member 1 -**\n",
        "##### **Team Member 2 -**\n",
        "##### **Team Member 3 -**\n",
        "##### **Team Member 4 -**"
      ],
      "metadata": {
        "id": "beRrZCGUAJYm"
      }
    },
    {
      "cell_type": "markdown",
      "source": [
        "# **Project Summary -**"
      ],
      "metadata": {
        "id": "FJNUwmbgGyua"
      }
    },
    {
      "cell_type": "markdown",
      "source": [
        "Write the summary here within 500-600 words."
      ],
      "metadata": {
        "id": "F6v_1wHtG2nS"
      }
    },
    {
      "cell_type": "markdown",
      "source": [
        "**Introduction:**\n",
        "\n",
        "The project analyzes a hotel booking dataset to provide strategic insights for the hospitality industry. It includes booking details, guest demographics, and reservation outcomes. EDA techniques, statistical methods, and visualization tools are used to extract meaningful patterns and trends, enhancing the understanding of the industry.                   \n",
        "\n",
        "**objective**:                                                               \n",
        "\n",
        "This project aims to enhance hotel management and stakeholders' operational efficiency by providing actionable insights into guest behavior, reservation patterns, and cancellation factors, ultimately leading to improved customer experiences and increased revenue.            \n",
        "\n",
        "\n",
        "**Exploratory Data Analysis (EDA):**\n",
        "\n",
        "Our initial focus was on EDA to gain a holistic understanding of the dataset. This involved examining data distributions, identifying outliers, and assessing the basic characteristics of each feature. We employed descriptive statistics, histograms, and correlation matrices to unveil relationships between variables, laying the groundwork for more in-depth analyses.                                                                  \n",
        "\n",
        "**Key Findings:**\n",
        "\n",
        "**Booking Patterns:**\n",
        "\n",
        "1.) Identified peak booking periods and trends throughout the year, enabling hotels to optimize staffing levels and resource allocation.\n",
        "Cancellations and No-Shows:\n",
        "\n",
        "2.) Explored factors contributing to cancellations, such as lead time, guest demographics, and reservation channel. Developed insights to mitigate cancellations and reduce revenue loss.                            \n",
        "\n",
        "3.) Explored the behavior of repeated guests, understanding their preferences and tailoring services to enhance loyalty.                    \n",
        "\n",
        "4.) Investigated factors influencing revenue, such as room type, additional services, and deposit types, offering opportunities for revenue optimization.                                                              \n",
        "\n",
        "**Data Visualization**:\n",
        "\n",
        "Utilizing visualizations such as bar plots, count plots, and a correlation heatmap, we presented our findings in a visually compelling manner. This not only facilitated a better understanding of the data but also made the insights accessible to a broad audience."
      ],
      "metadata": {
        "id": "es4inARAhHhF"
      }
    },
    {
      "cell_type": "markdown",
      "source": [
        "# **GitHub Link -**"
      ],
      "metadata": {
        "id": "w6K7xa23Elo4"
      }
    },
    {
      "cell_type": "markdown",
      "source": [
        "Provide your GitHub Link here."
      ],
      "metadata": {
        "id": "h1o69JH3Eqqn"
      }
    },
    {
      "cell_type": "markdown",
      "source": [
        "https://github.com/prinshu1234/Capstone-project-2"
      ],
      "metadata": {
        "id": "xPE7xFjalVr5"
      }
    },
    {
      "cell_type": "markdown",
      "source": [
        "# **Problem Statement**\n"
      ],
      "metadata": {
        "id": "yQaldy8SH6Dl"
      }
    },
    {
      "cell_type": "markdown",
      "source": [
        "**Write Problem Statement Here.**"
      ],
      "metadata": {
        "id": "DpeJGUA3kjGy"
      }
    },
    {
      "cell_type": "markdown",
      "source": [
        "Explore and analyze a hotel booking dataset to discover key factors that influence hotel bookings.such as:\n",
        "\n",
        "1.Determine the best time of year to book a hotel room for the most favorable rate.\n",
        "\n",
        "2.Identify the optimal length of stay to secure the best daily rate.\n",
        "\n",
        "3.Predict whether a hotel is likely to receive a disproprtionately high number of special requests."
      ],
      "metadata": {
        "id": "P1i3s7yoxbPm"
      }
    },
    {
      "cell_type": "markdown",
      "source": [
        "#### **Define Your Business Objective?**"
      ],
      "metadata": {
        "id": "PH-0ReGfmX4f"
      }
    },
    {
      "cell_type": "markdown",
      "source": [
        "the goal is to extract insights from the dataset that can inform decision-making in the hotel industry, such as understanding booking patterns, optimizing pricing and length-of-stay strategies, and anticipating special requests."
      ],
      "metadata": {
        "id": "PhDvGCAqmjP1"
      }
    },
    {
      "cell_type": "markdown",
      "source": [],
      "metadata": {
        "id": "enKuzlk0xXpU"
      }
    },
    {
      "cell_type": "markdown",
      "source": [
        "# **General Guidelines** : -  "
      ],
      "metadata": {
        "id": "mDgbUHAGgjLW"
      }
    },
    {
      "cell_type": "markdown",
      "source": [
        "1.   Well-structured, formatted, and commented code is required.\n",
        "2.   Exception Handling, Production Grade Code & Deployment Ready Code will be a plus. Those students will be awarded some additional credits.\n",
        "     \n",
        "     The additional credits will have advantages over other students during Star Student selection.\n",
        "       \n",
        "             [ Note: - Deployment Ready Code is defined as, the whole .ipynb notebook should be executable in one go\n",
        "                       without a single error logged. ]\n",
        "\n",
        "3.   Each and every logic should have proper comments.\n",
        "4. You may add as many number of charts you want. Make Sure for each and every chart the following format should be answered.\n",
        "        \n",
        "\n",
        "```\n",
        "# Chart visualization code\n",
        "```\n",
        "            \n",
        "\n",
        "*   Why did you pick the specific chart?\n",
        "*   What is/are the insight(s) found from the chart?\n",
        "* Will the gained insights help creating a positive business impact?\n",
        "Are there any insights that lead to negative growth? Justify with specific reason.\n",
        "\n",
        "5. You have to create at least 20 logical & meaningful charts having important insights.\n",
        "\n",
        "\n",
        "[ Hints : - Do the Vizualization in  a structured way while following \"UBM\" Rule.\n",
        "\n",
        "U - Univariate Analysis,\n",
        "\n",
        "B - Bivariate Analysis (Numerical - Categorical, Numerical - Numerical, Categorical - Categorical)\n",
        "\n",
        "M - Multivariate Analysis\n",
        " ]\n",
        "\n",
        "\n",
        "\n"
      ],
      "metadata": {
        "id": "ZrxVaUj-hHfC"
      }
    },
    {
      "cell_type": "markdown",
      "source": [
        "# ***Let's Begin !***"
      ],
      "metadata": {
        "id": "O_i_v8NEhb9l"
      }
    },
    {
      "cell_type": "markdown",
      "source": [
        "## ***1. Know Your Data***"
      ],
      "metadata": {
        "id": "HhfV-JJviCcP"
      }
    },
    {
      "cell_type": "markdown",
      "source": [
        "### Import Libraries"
      ],
      "metadata": {
        "id": "Y3lxredqlCYt"
      }
    },
    {
      "cell_type": "code",
      "source": [
        "# Import Libraries\n",
        "import numpy as np\n",
        "import pandas as pd\n",
        "import matplotlib.pyplot as plt\n",
        "import seaborn as sns"
      ],
      "metadata": {
        "id": "M8Vqi-pPk-HR"
      },
      "execution_count": null,
      "outputs": []
    },
    {
      "cell_type": "markdown",
      "source": [
        "### Dataset Loading"
      ],
      "metadata": {
        "id": "3RnN4peoiCZX"
      }
    },
    {
      "cell_type": "code",
      "source": [
        "# Load Dataset\n",
        "from google.colab import drive\n",
        "drive.mount('/content/drive')"
      ],
      "metadata": {
        "id": "4CkvbW_SlZ_R"
      },
      "execution_count": null,
      "outputs": []
    },
    {
      "cell_type": "code",
      "source": [
        "path = '/content/Hotel Bookings.csv'\n",
        "\n",
        "df = pd.read_csv(path)"
      ],
      "metadata": {
        "id": "JfavY7rHfHJK"
      },
      "execution_count": null,
      "outputs": []
    },
    {
      "cell_type": "markdown",
      "source": [
        "### Dataset First View"
      ],
      "metadata": {
        "id": "x71ZqKXriCWQ"
      }
    },
    {
      "cell_type": "code",
      "source": [
        "# Dataset First Look\n",
        "df.head()"
      ],
      "metadata": {
        "id": "LWNFOSvLl09H"
      },
      "execution_count": null,
      "outputs": []
    },
    {
      "cell_type": "markdown",
      "source": [
        "### Dataset Rows & Columns count"
      ],
      "metadata": {
        "id": "7hBIi_osiCS2"
      }
    },
    {
      "cell_type": "code",
      "source": [
        "# Dataset Rows & Columns count\n",
        "print(\"Number of rows:\",df.shape[0])\n",
        "print(\"Number of columns:\",df.shape[1])"
      ],
      "metadata": {
        "id": "Kllu7SJgmLij"
      },
      "execution_count": null,
      "outputs": []
    },
    {
      "cell_type": "markdown",
      "source": [
        "### Dataset Information"
      ],
      "metadata": {
        "id": "JlHwYmJAmNHm"
      }
    },
    {
      "cell_type": "code",
      "source": [
        "# Dataset Info\n",
        "df.info()"
      ],
      "metadata": {
        "id": "e9hRXRi6meOf"
      },
      "execution_count": null,
      "outputs": []
    },
    {
      "cell_type": "markdown",
      "source": [
        "#### Duplicate Values"
      ],
      "metadata": {
        "id": "35m5QtbWiB9F"
      }
    },
    {
      "cell_type": "code",
      "source": [
        "# Dataset Duplicate value count\n",
        "df.duplicated().sum()"
      ],
      "metadata": {
        "id": "1sLdpKYkmox0"
      },
      "execution_count": null,
      "outputs": []
    },
    {
      "cell_type": "code",
      "source": [
        "# Handling duplicated values\n",
        "df.drop_duplicates(inplace = True)"
      ],
      "metadata": {
        "id": "FBjGOSUojOjC"
      },
      "execution_count": null,
      "outputs": []
    },
    {
      "cell_type": "code",
      "source": [
        "# After removing the duplicates value\n",
        "print(f' We have {df.duplicated().sum()} duplicate values in dataset.')"
      ],
      "metadata": {
        "id": "UgzuKgM2jaBk"
      },
      "execution_count": null,
      "outputs": []
    },
    {
      "cell_type": "markdown",
      "source": [
        "#### Missing Values/Null Values"
      ],
      "metadata": {
        "id": "PoPl-ycgm1ru"
      }
    },
    {
      "cell_type": "code",
      "source": [
        "# Missing Values/Null Values Count\n",
        "df.isna().sum().sort_values(ascending=False)"
      ],
      "metadata": {
        "id": "GgHWkxvamxVg"
      },
      "execution_count": null,
      "outputs": []
    },
    {
      "cell_type": "code",
      "source": [
        "# drop the company column\n",
        "df.drop('company', axis = 1, inplace = True)"
      ],
      "metadata": {
        "id": "OD38-lVxVpw9"
      },
      "execution_count": null,
      "outputs": []
    },
    {
      "cell_type": "code",
      "source": [
        "df.fillna(0, inplace = True)"
      ],
      "metadata": {
        "id": "XwJgrNndVsUF"
      },
      "execution_count": null,
      "outputs": []
    },
    {
      "cell_type": "code",
      "source": [
        "# There is no missing values\n",
        "df.isna().sum().sort_values(ascending=False)"
      ],
      "metadata": {
        "id": "SVU0ncXmXB3x"
      },
      "execution_count": null,
      "outputs": []
    },
    {
      "cell_type": "code",
      "source": [
        "# Visualizing the missing values\n",
        "plt.figure(figsize=(15,5))\n",
        "sns.heatmap(df.isnull(),cmap='plasma',annot=False,yticklabels=False)\n",
        "plt.title(\" Visualising Missing Values\")"
      ],
      "metadata": {
        "id": "3q5wnI3om9sJ"
      },
      "execution_count": null,
      "outputs": []
    },
    {
      "cell_type": "markdown",
      "source": [
        "### What did you know about your dataset?"
      ],
      "metadata": {
        "id": "H0kj-8xxnORC"
      }
    },
    {
      "cell_type": "markdown",
      "source": [
        "This dataset is given by business context, and this contains information for a city and a resort hotel and include more information such as when the booking was made, length of stay, the number of adults, children, and/or babies, and the number of available parking spaces.personally identifying information has been removed from the data. Explore and analyse the data to discover important factors that govern the bookings.\n",
        "The datset has 119390 row and 32 columns.there are missing and duplicate value also there."
      ],
      "metadata": {
        "id": "gfoNAAC-nUe_"
      }
    },
    {
      "cell_type": "markdown",
      "source": [
        "## ***2. Understanding Your Variables***"
      ],
      "metadata": {
        "id": "nA9Y7ga8ng1Z"
      }
    },
    {
      "cell_type": "code",
      "source": [
        "# Dataset Columns\n",
        "df.columns"
      ],
      "metadata": {
        "id": "j7xfkqrt5Ag5"
      },
      "execution_count": null,
      "outputs": []
    },
    {
      "cell_type": "code",
      "source": [
        "# Dataset Describe\n",
        "df.describe(include = 'all' )"
      ],
      "metadata": {
        "id": "DnOaZdaE5Q5t"
      },
      "execution_count": null,
      "outputs": []
    },
    {
      "cell_type": "markdown",
      "source": [
        "### Variables Description"
      ],
      "metadata": {
        "id": "PBTbrJXOngz2"
      }
    },
    {
      "cell_type": "markdown",
      "source": [
        "Answer Here"
      ],
      "metadata": {
        "id": "aJV4KIxSnxay"
      }
    },
    {
      "cell_type": "markdown",
      "source": [
        "The columns and the data it represented are listed below:      \n",
        "**hotel** :  Name of the hotel (Resort hotel or City hotel)     \n",
        "**is_canceled** : If the booking was canceled(1) or not (0)       \n",
        "**lead_time**  : Number of the days before the actual arrival of the guests                                                                     \n",
        "**arrival_date_year** : Year of arrival date                               \n",
        "**arrival_date_month** : Month of arrival date                             \n",
        "**arrival_date_week_number** : Week number for arrival date                \n",
        "**arrival_date_day** : Day of arrival date                                 \n",
        "**stays_in_weekend_nights** : Number of weekend nights ( saturday or sunday) the guest stayed or booked to stay at the hotel.                   \n",
        "**stays_in_week_nights** : Number of week nights ( monday to friday) the guest stayed or booked to stay at the hotel.                     \n",
        "**adults** : Number of adults.                                              \n",
        "**children** : Number of children.                                         \n",
        "**babies** : Number of babies.                                             \n",
        "**meal** : type of meal booked.                                            \n",
        "**country** : Country code.                                               \n",
        "**market_segment** : Designation of market segment.                        \n",
        "**distribution channel** : Name of booking distribution of channel         \n",
        "**is_repeated_guest** : if the booking was from a repeated guest(1) or not(0)                                                                        \n",
        "**previous_cancellations** : Number of previous bookings that were cancelled by the customer prior to the current booking.                    \n",
        "**previous_booking_not_cancelled** : Number of previous bookings not cancelled by the customer prior to the current booking.                    \n",
        "**reserved_room_type** : Code of room type reserved.                       \n",
        "**assigned_room_type** : Code of room type assigned.                       \n",
        "**booking_changes** : Number of changes/amendements made to the booking.   \n",
        "**deposit_type** : Type of the deposit made by the guest.                  \n",
        "**agent** : ID of travel agent who made the booking.                       \n",
        "**company** : ID of company that made the booking.                         \n",
        "**days_in_waiting_list** : Number of days the booking was in the waiting list.                                                                      \n",
        "\n",
        "**customer_type** : Type of customer, assuming one of the four categories.\n",
        "\n",
        "**adr** : Average daily rate, as defined by dividing the sum of all lodging transactions by the total number of staying nights.                \n",
        "**required_car_parking_spaces** : Number of car parking spaces required by the customer.                                                              \n",
        "**total_of_special_request** : Number of special request made by the customer.                                                                  \n",
        "**reservation_status** : Reservation status (Cancelled, Check - Out or No_show)                                                                   \n",
        "**reservation_status_date** : Date at which the last reservation status was updated"
      ],
      "metadata": {
        "id": "_BOiV8XD3hw7"
      }
    },
    {
      "cell_type": "markdown",
      "source": [
        "### Check Unique Values for each variable."
      ],
      "metadata": {
        "id": "u3PMJOP6ngxN"
      }
    },
    {
      "cell_type": "code",
      "source": [
        "# Check Unique Values for each variable.\n",
        "for i in df.columns.tolist():\n",
        "  print(\"No. of unique values in \",i,\"is\",df[i].nunique(),\".\")"
      ],
      "metadata": {
        "id": "zms12Yq5n-jE"
      },
      "execution_count": null,
      "outputs": []
    },
    {
      "cell_type": "markdown",
      "source": [
        "## 3. ***Data Wrangling***"
      ],
      "metadata": {
        "id": "dauF4eBmngu3"
      }
    },
    {
      "cell_type": "markdown",
      "source": [
        "### Data Wrangling Code"
      ],
      "metadata": {
        "id": "bKJF3rekwFvQ"
      }
    },
    {
      "cell_type": "code",
      "source": [
        "# Write your code to make your dataset analysis ready.\n",
        "numerical_columns=[]\n",
        "for col in df.columns:\n",
        "  if df[col].nunique()>5:\n",
        "    numerical_columns.append(col)\n",
        "categorical_columns=list(set(df.columns)-set(numerical_columns))"
      ],
      "metadata": {
        "id": "wk-9a2fpoLcV"
      },
      "execution_count": null,
      "outputs": []
    },
    {
      "cell_type": "code",
      "source": [
        "# Numerical columns\n",
        "print(numerical_columns)"
      ],
      "metadata": {
        "id": "kIq9Kpxepgjg"
      },
      "execution_count": null,
      "outputs": []
    },
    {
      "cell_type": "code",
      "source": [
        "# Categorical columns\n",
        "print(categorical_columns)"
      ],
      "metadata": {
        "id": "jItEQ_nuptnA"
      },
      "execution_count": null,
      "outputs": []
    },
    {
      "cell_type": "markdown",
      "source": [
        "# Add New columns as per requirements"
      ],
      "metadata": {
        "id": "Q-UozN664v8Q"
      }
    },
    {
      "cell_type": "code",
      "source": [
        "# total stay nights in days\n",
        "df['total_stays_in_nights'] = df['stays_in_week_nights'] + df['stays_in_weekend_nights']\n",
        "df['total_stays_in_nights']"
      ],
      "metadata": {
        "id": "J8_CjbGA5CXx"
      },
      "execution_count": null,
      "outputs": []
    },
    {
      "cell_type": "code",
      "source": [
        "# we have a created a coiumn for revenue using total stay * adr\n",
        "df['revenue'] = df['total_stays_in_nights'] * df['adr']\n",
        "df['revenue']"
      ],
      "metadata": {
        "id": "FJXr-lNv6u20"
      },
      "execution_count": null,
      "outputs": []
    },
    {
      "cell_type": "code",
      "source": [
        "# Revenue by each hotel type\n",
        "df.groupby('hotel')['revenue'].sum()"
      ],
      "metadata": {
        "id": "guwWYVV68GLM"
      },
      "execution_count": null,
      "outputs": []
    },
    {
      "cell_type": "markdown",
      "source": [
        "### What all manipulations have you done and insights you found?"
      ],
      "metadata": {
        "id": "MSa1f5Uengrz"
      }
    },
    {
      "cell_type": "markdown",
      "source": [
        "Answer Here."
      ],
      "metadata": {
        "id": "LbyXE7I1olp8"
      }
    },
    {
      "cell_type": "markdown",
      "source": [
        "## ***4. Data Vizualization, Storytelling & Experimenting with charts : Understand the relationships between variables***"
      ],
      "metadata": {
        "id": "GF8Ens_Soomf"
      }
    },
    {
      "cell_type": "markdown",
      "source": [
        "#### Chart - 1"
      ],
      "metadata": {
        "id": "0wOQAZs5pc--"
      }
    },
    {
      "cell_type": "code",
      "source": [
        "# Chart - 1 visualization code"
      ],
      "metadata": {
        "id": "7v_ESjsspbW7"
      },
      "execution_count": null,
      "outputs": []
    },
    {
      "cell_type": "code",
      "source": [
        "sns.countplot(data=df, x='hotel')\n",
        "plt.xlabel('Hotel')\n",
        "plt.ylabel('Count')\n",
        "plt.title('Hotel Variable Distribution')\n",
        "plt.show()"
      ],
      "metadata": {
        "id": "HW0hnGRZ1pFk"
      },
      "execution_count": null,
      "outputs": []
    },
    {
      "cell_type": "markdown",
      "source": [
        "##### 1. Why did you pick the specific chart?"
      ],
      "metadata": {
        "id": "K5QZ13OEpz2H"
      }
    },
    {
      "cell_type": "markdown",
      "source": [
        "Answer Here."
      ],
      "metadata": {
        "id": "XESiWehPqBRc"
      }
    },
    {
      "cell_type": "markdown",
      "source": [
        "some reasons for choosing this specific chart:                        \n",
        "Creates a countplot of the 'hotel' variable, showing the count of each category."
      ],
      "metadata": {
        "id": "X_wAoEZE1iGK"
      }
    },
    {
      "cell_type": "markdown",
      "source": [
        "##### 2. What is/are the insight(s) found from the chart?"
      ],
      "metadata": {
        "id": "lQ7QKXXCp7Bj"
      }
    },
    {
      "cell_type": "markdown",
      "source": [
        "The no. of city hotel is more than the resort hotel\n"
      ],
      "metadata": {
        "id": "C_j1G7yiqdRP"
      }
    },
    {
      "cell_type": "markdown",
      "source": [
        "##### 3. Will the gained insights help creating a positive business impact?\n",
        "Are there any insights that lead to negative growth? Justify with specific reason."
      ],
      "metadata": {
        "id": "448CDAPjqfQr"
      }
    },
    {
      "cell_type": "markdown",
      "source": [
        "Answer Here"
      ],
      "metadata": {
        "id": "3cspy4FjqxJW"
      }
    },
    {
      "cell_type": "markdown",
      "source": [
        "Yes.It will help to gain insight to help creating a positive business impact\n",
        "\n"
      ],
      "metadata": {
        "id": "K7deIfxb88Nc"
      }
    },
    {
      "cell_type": "markdown",
      "source": [
        "#### Chart - 2"
      ],
      "metadata": {
        "id": "KSlN3yHqYklG"
      }
    },
    {
      "cell_type": "code",
      "source": [
        "# Chart - 2 visualization code"
      ],
      "metadata": {
        "id": "R4YgtaqtYklH"
      },
      "execution_count": null,
      "outputs": []
    },
    {
      "cell_type": "code",
      "source": [
        "booking_status = df['is_canceled'].value_counts()\n",
        "sns.barplot(x=booking_status.index, y=booking_status.values)\n",
        "plt.title('Booking vs is_canceled')\n",
        "plt.xlabel('Booking Status')\n",
        "plt.ylabel('Count')\n",
        "plt.show()"
      ],
      "metadata": {
        "id": "cJkyCYuVBFsr"
      },
      "execution_count": null,
      "outputs": []
    },
    {
      "cell_type": "markdown",
      "source": [
        "##### 1. Why did you pick the specific chart?"
      ],
      "metadata": {
        "id": "t6dVpIINYklI"
      }
    },
    {
      "cell_type": "markdown",
      "source": [
        "Answer Here."
      ],
      "metadata": {
        "id": "5aaW0BYyYklI"
      }
    },
    {
      "cell_type": "markdown",
      "source": [
        "The 'hotel' and 'is_canceled' columns are categorical. A barplot is suitable for visualizing the distribution of categories within a single variable ('hotel') and distinguishing them by another Numerical variable ('is_canceled') using color.\n",
        "\n"
      ],
      "metadata": {
        "id": "eheFHXDDGC6f"
      }
    },
    {
      "cell_type": "markdown",
      "source": [
        "##### 2. What is/are the insight(s) found from the chart?"
      ],
      "metadata": {
        "id": "ijmpgYnKYklI"
      }
    },
    {
      "cell_type": "markdown",
      "source": [
        "Answer Here"
      ],
      "metadata": {
        "id": "PSx9atu2YklI"
      }
    },
    {
      "cell_type": "markdown",
      "source": [
        "\n",
        "Insights from this chart:\n",
        "\n",
        "\n",
        "Identifying trends                                                     \n",
        "Trends in cancellation rates for each hotel type can be identified. For example, you may observe whether one type of hotel experiences a seasonal increase in cancellations or if there are other patterns.\n",
        "\n",
        "\n"
      ],
      "metadata": {
        "id": "1QrWO-k3Getc"
      }
    },
    {
      "cell_type": "markdown",
      "source": [
        "##### 3. Will the gained insights help creating a positive business impact?\n",
        "Are there any insights that lead to negative growth? Justify with specific reason."
      ],
      "metadata": {
        "id": "-JiQyfWJYklI"
      }
    },
    {
      "cell_type": "markdown",
      "source": [
        "Answer Here"
      ],
      "metadata": {
        "id": "BcBbebzrYklV"
      }
    },
    {
      "cell_type": "markdown",
      "source": [
        "Yes the gained insights help creating a positive business impact.\n",
        "\n",
        "\n",
        "Yes there are insights that lead to negative growth. whether the impact of booking cancellations is negative for a hotel business depends on various factors how the hotel manages them, and the overall effect on operations and revenue."
      ],
      "metadata": {
        "id": "SmS4qUFFIXVR"
      }
    },
    {
      "cell_type": "markdown",
      "source": [
        "#### Chart - 3"
      ],
      "metadata": {
        "id": "EM7whBJCYoAo"
      }
    },
    {
      "cell_type": "code",
      "source": [
        "# Chart - 3 visualization code"
      ],
      "metadata": {
        "id": "t6GMdE67YoAp"
      },
      "execution_count": null,
      "outputs": []
    },
    {
      "cell_type": "code",
      "source": [
        "sns.countplot(data = df, x = 'hotel', hue ='arrival_date_year')\n",
        "plt.title('Distribution of bookings for each year, separately for each hotel type')\n",
        "plt.show()"
      ],
      "metadata": {
        "id": "W5MY0ClBninb"
      },
      "execution_count": null,
      "outputs": []
    },
    {
      "cell_type": "markdown",
      "source": [
        "##### 1. Why did you pick the specific chart?"
      ],
      "metadata": {
        "id": "fge-S5ZAYoAp"
      }
    },
    {
      "cell_type": "markdown",
      "source": [
        "Answer Here."
      ],
      "metadata": {
        "id": "5dBItgRVYoAp"
      }
    },
    {
      "cell_type": "markdown",
      "source": [
        "\n",
        "some reasons for choosing this specific chart:\n",
        "1. **Categorical Data**                                                    \n",
        "\n",
        "\n",
        "*   The 'hotel' and 'arrival_date_year' columns are categorical. A countplot is suitable for visualizing the distribution of categories within a single variable ('hotel') and distinguishing them by another categorical variable ('arrival_date_year') using color.                    \n",
        "\n",
        " 2.**Insight into Seasonal variations**\n",
        "                                       \n",
        "   \n",
        "\n",
        "*   By visualizing bookings over different years, you can observe any seasonal variations or trends. For example, you might identify peak booking years or periods of increased/decreased demand.\n",
        "\n",
        "\n",
        "\n",
        "\n",
        "\n"
      ],
      "metadata": {
        "id": "2S2qCNcHyQjB"
      }
    },
    {
      "cell_type": "markdown",
      "source": [
        "##### 2. What is/are the insight(s) found from the chart?"
      ],
      "metadata": {
        "id": "85gYPyotYoAp"
      }
    },
    {
      "cell_type": "markdown",
      "source": [
        "Answer Here"
      ],
      "metadata": {
        "id": "4jstXR6OYoAp"
      }
    },
    {
      "cell_type": "markdown",
      "source": [
        "1.**Yearly Bookings Trends**                                                   \n",
        "\n",
        "\n",
        "*   The countplot allows you to observe how the number of bookings varies across different years for each type of hotel. This can provide insights into overall trends and fluctuations in demand over time.                                                                     \n",
        "\n",
        "2.**Identifying Opportunities and Challenges**                                 \n",
        "\n",
        "  \n",
        "\n",
        "*   The chart can help identify opportunities for growth or areas that may require attention. For instance, a sudden drop in bookings for a particular year may prompt further investigation to understand the cause.\n",
        "\n",
        "\n",
        "\n",
        "\n",
        "\n",
        "\n",
        "\n",
        "\n",
        "\n",
        "\n",
        "\n"
      ],
      "metadata": {
        "id": "tj5sdAHr2RbK"
      }
    },
    {
      "cell_type": "markdown",
      "source": [
        "##### 3. Will the gained insights help creating a positive business impact?\n",
        "Are there any insights that lead to negative growth? Justify with specific reason."
      ],
      "metadata": {
        "id": "RoGjAbkUYoAp"
      }
    },
    {
      "cell_type": "markdown",
      "source": [
        "Answer Here"
      ],
      "metadata": {
        "id": "zfJ8IqMcYoAp"
      }
    },
    {
      "cell_type": "markdown",
      "source": [
        "**Positive Business Impact**\n",
        "\n",
        " Optimized Operations:                                                     \n",
        "                                                            \n",
        "\n",
        "*  **Insight**: Understanding the demand patterns allows for better operational planning. For instance, if there are clear seasonal variations, the business can optimize staff levels, inventory, and other resources accordingly.\n",
        "* **Impact**: Improved operational efficiency can result in cost savings and enhanced customer satisfaction, contributing to positive business growth.                                                                    \n",
        "                                                     \n",
        "\n",
        "\n",
        "\n",
        "\n",
        "\n",
        "\n",
        "\n",
        "\n",
        "\n"
      ],
      "metadata": {
        "id": "lOU28t9C5Fe0"
      }
    },
    {
      "cell_type": "markdown",
      "source": [
        "#### Chart - 4"
      ],
      "metadata": {
        "id": "4Of9eVA-YrdM"
      }
    },
    {
      "cell_type": "code",
      "source": [
        "# Chart - 4 visualization code"
      ],
      "metadata": {
        "id": "irlUoxc8YrdO"
      },
      "execution_count": null,
      "outputs": []
    },
    {
      "cell_type": "code",
      "source": [
        "sns.countplot(data = df, x = 'meal', hue = 'hotel',palette=\"colorblind\")\n",
        "plt.figure(figsize=(10, 6))\n",
        "plt.show()"
      ],
      "metadata": {
        "id": "wC4vxxPpaPHl"
      },
      "execution_count": null,
      "outputs": []
    },
    {
      "cell_type": "markdown",
      "source": [
        "##### 1. Why did you pick the specific chart?"
      ],
      "metadata": {
        "id": "iky9q4vBYrdO"
      }
    },
    {
      "cell_type": "markdown",
      "source": [
        "Answer Here."
      ],
      "metadata": {
        "id": "aJRCwT6DYrdO"
      }
    },
    {
      "cell_type": "markdown",
      "source": [
        "some reasons for choosing this specific chart:                  \n",
        "The countplot with hue allows for a direct comparison of meal distribution for each category of 'hotel.' This helps in assessing whether meal preferences differ between hotel types."
      ],
      "metadata": {
        "id": "2fcHE06WkzZr"
      }
    },
    {
      "cell_type": "markdown",
      "source": [],
      "metadata": {
        "id": "5QiCF2gFkS1O"
      }
    },
    {
      "cell_type": "markdown",
      "source": [
        "##### 2. What is/are the insight(s) found from the chart?"
      ],
      "metadata": {
        "id": "F6T5p64dYrdO"
      }
    },
    {
      "cell_type": "markdown",
      "source": [
        "Answer Here"
      ],
      "metadata": {
        "id": "Xx8WAJvtYrdO"
      }
    },
    {
      "cell_type": "markdown",
      "source": [
        "1.**Meal Preference Variation**                                            \n",
        "    The countplot allows you to observe how the distribution of meal preferences varies between different types of hotels. For example, you might see if certain meals are more popular in resort hotels compared to city hotels or vice versa.                                          \n",
        "\n",
        "2.**Identifying Popular Meals**                                            \n",
        "    By examining the height of the bars for each meal type, you can identify which meals are more commonly chosen by guests. This information can be valuable for menu planning and catering services."
      ],
      "metadata": {
        "id": "-hrX80_5k2Q3"
      }
    },
    {
      "cell_type": "markdown",
      "source": [
        "##### 3. Will the gained insights help creating a positive business impact?\n",
        "Are there any insights that lead to negative growth? Justify with specific reason."
      ],
      "metadata": {
        "id": "y-Ehk30pYrdP"
      }
    },
    {
      "cell_type": "markdown",
      "source": [
        "Answer Here"
      ],
      "metadata": {
        "id": "jLNxxz7MYrdP"
      }
    },
    {
      "cell_type": "markdown",
      "source": [
        "**positive business impact**\n",
        "\n",
        "**Marketing and Promotion**                                               \n",
        "\n",
        "\n",
        "*   **Insight**: Identifying popular meals provides opportunities for targeted marketing and promotional activities, allowing the business to highlight its strengths and unique offerings.\n",
        "*   **Positive Impact**: Effective marketing can attract more guests, increase bookings, and positively impact revenue                           \n",
        "\n",
        "**Negative Impact**\n",
        "\n",
        "Limited menu options may lead to decreased appeal for guests who seek variety, potentially resulting in negative reviews and a loss of customers."
      ],
      "metadata": {
        "id": "GuugT95DsSYv"
      }
    },
    {
      "cell_type": "markdown",
      "source": [
        "#### Chart - 5"
      ],
      "metadata": {
        "id": "bamQiAODYuh1"
      }
    },
    {
      "cell_type": "code",
      "source": [
        "# Chart - 5 visualization code"
      ],
      "metadata": {
        "id": "TIJwrbroYuh3"
      },
      "execution_count": null,
      "outputs": []
    },
    {
      "cell_type": "code",
      "source": [
        "sns.countplot(data=df, x='distribution_channel', hue='hotel')\n",
        "plt.title('Count of Bookings by Distribution Channel and Hotel Type')\n",
        "plt.xlabel('Distribution Channel')\n",
        "plt.ylabel('Count')\n",
        "plt.show()"
      ],
      "metadata": {
        "id": "lqWUqaOjuawR"
      },
      "execution_count": null,
      "outputs": []
    },
    {
      "cell_type": "markdown",
      "source": [
        "##### 1. Why did you pick the specific chart?"
      ],
      "metadata": {
        "id": "QHF8YVU7Yuh3"
      }
    },
    {
      "cell_type": "markdown",
      "source": [
        "Answer Here."
      ],
      "metadata": {
        "id": "dcxuIMRPYuh3"
      }
    },
    {
      "cell_type": "markdown",
      "source": [
        "some reasons for choosing this specific chart:                             \n",
        "The countplot with hue allows for a direct comparison of booking counts for each distribution channel within each category of 'hotel.' This helps in assessing whether booking patterns differ between hotel types for each distribution channel"
      ],
      "metadata": {
        "id": "mkxgxKEAuy_b"
      }
    },
    {
      "cell_type": "markdown",
      "source": [
        "##### 2. What is/are the insight(s) found from the chart?"
      ],
      "metadata": {
        "id": "GwzvFGzlYuh3"
      }
    },
    {
      "cell_type": "markdown",
      "source": [
        "Answer Here"
      ],
      "metadata": {
        "id": "uyqkiB8YYuh3"
      }
    },
    {
      "cell_type": "markdown",
      "source": [
        "1.**Booking Channel Popularity**                                          \n",
        "  \n",
        "\n",
        "*   The countplot allows you to observe which distribution channels are more popular for bookings across different types of hotels. This insight can guide marketing and promotional strategies tailored to the preferred channels for each hotel type.                                              \n",
        "\n",
        "2.**Differences in Booking Behavior**                                      \n",
        "\n",
        "\n",
        "*   By comparing the height of the bars for each distribution channel within each hotel type, you can identify whether there are significant differences in booking behavior. For example, certain distribution channels might be more favored for resort hotels compared to city hotels.\n",
        "\n",
        "\n",
        "\n",
        "\n",
        "\n"
      ],
      "metadata": {
        "id": "jIxAogwlvLZh"
      }
    },
    {
      "cell_type": "markdown",
      "source": [
        "##### 3. Will the gained insights help creating a positive business impact?\n",
        "Are there any insights that lead to negative growth? Justify with specific reason."
      ],
      "metadata": {
        "id": "qYpmQ266Yuh3"
      }
    },
    {
      "cell_type": "markdown",
      "source": [
        "Answer Here"
      ],
      "metadata": {
        "id": "_WtzZ_hCYuh4"
      }
    },
    {
      "cell_type": "markdown",
      "source": [
        "**Positive Business Impact**\n",
        "\n",
        "\n",
        "**Optimized Marketing Strategies**:                                       \n",
        "\n",
        "\n",
        "* **Insight**: Identifying the most popular distribution channels for each hotel type allows for the optimization of marketing strategies.\n",
        "* **Positive Impact**: Focused and optimized marketing efforts on the most effective channels can lead to increased visibility, customer acquisition, and positive business growth.                                              \n",
        "\n",
        "\n"
      ],
      "metadata": {
        "id": "9nPZSfNw0qoX"
      }
    },
    {
      "cell_type": "markdown",
      "source": [
        "#### Chart - 6"
      ],
      "metadata": {
        "id": "OH-pJp9IphqM"
      }
    },
    {
      "cell_type": "code",
      "source": [
        "# Chart - 6 visualization code"
      ],
      "metadata": {
        "id": "kuRf4wtuphqN"
      },
      "execution_count": null,
      "outputs": []
    },
    {
      "cell_type": "code",
      "source": [
        "sns.countplot(data=df, x='is_repeated_guest', hue='hotel')\n",
        "plt.title('Count of Repeated Guests')\n",
        "plt.xlabel('Repeated Guest')\n",
        "plt.ylabel('Count')\n",
        "plt.show()"
      ],
      "metadata": {
        "id": "eTFb8gsz3PWb"
      },
      "execution_count": null,
      "outputs": []
    },
    {
      "cell_type": "markdown",
      "source": [
        "##### 1. Why did you pick the specific chart?"
      ],
      "metadata": {
        "id": "bbFf2-_FphqN"
      }
    },
    {
      "cell_type": "markdown",
      "source": [
        "Answer Here."
      ],
      "metadata": {
        "id": "loh7H2nzphqN"
      }
    },
    {
      "cell_type": "markdown",
      "source": [
        "some reasons for choosing this specific chart:                            \n",
        "The countplot with hue allows for a direct comparison of the count of repeated guests (0 or 1) for each category of 'hotel.' This helps in assessing whether the proportion of repeated guests differs between hotel types."
      ],
      "metadata": {
        "id": "tzDrNUew8gYh"
      }
    },
    {
      "cell_type": "markdown",
      "source": [
        "##### 2. What is/are the insight(s) found from the chart?"
      ],
      "metadata": {
        "id": "_ouA3fa0phqN"
      }
    },
    {
      "cell_type": "markdown",
      "source": [
        "Answer Here"
      ],
      "metadata": {
        "id": "VECbqPI7phqN"
      }
    },
    {
      "cell_type": "markdown",
      "source": [
        "Prevalence of Repeated Guests                                              \n",
        "\n",
        "\n",
        "*   The plot provides insights into which hotel types attract a higher number of repeated guests. This information can be valuable for understanding the loyalty of guests to specific hotel types.\n",
        "\n",
        "Strategies for Guest Retention\n",
        "*   If certain hotel types have a higher count of repeated guests, it suggests that these hotels may have effective strategies for guest retention. Analyzing these strategies can provide insights for other hotels to implement.\n",
        "\n"
      ],
      "metadata": {
        "id": "XmiigkXITc10"
      }
    },
    {
      "cell_type": "markdown",
      "source": [
        "##### 3. Will the gained insights help creating a positive business impact?\n",
        "Are there any insights that lead to negative growth? Justify with specific reason."
      ],
      "metadata": {
        "id": "Seke61FWphqN"
      }
    },
    {
      "cell_type": "markdown",
      "source": [
        "Answer Here"
      ],
      "metadata": {
        "id": "DW4_bGpfphqN"
      }
    },
    {
      "cell_type": "markdown",
      "source": [
        "Positive Business Impact                                                   \n",
        "1.Tailored Marketing Strategies:\n",
        "\n",
        "*   **Insight**: Knowing which hotel types have a higher count of repeated guests allows for tailoring marketing strategies to retain and attract similar guests.\n",
        "*   **Positive Impact**: Targeted marketing strategies can lead to increased customer loyalty, positive word-of-mouth, and repeat business, contributing to positive business growth.                                  \n",
        "\n",
        "2. Loyalty Programs:                                                       \n",
        "\n",
        "\n",
        "\n",
        "*   **Insight**: Hotels with a lower count of repeated guests may consider implementing loyalty programs or incentives.\n",
        "*   **Positive Impact**: Loyalty programs can encourage repeat visits, increase customer retention, and positively impact revenue over the long term.\n",
        "\n",
        "\n",
        "\n"
      ],
      "metadata": {
        "id": "DcJHYHZ7XDOg"
      }
    },
    {
      "cell_type": "markdown",
      "source": [
        "#### Chart - 7"
      ],
      "metadata": {
        "id": "PIIx-8_IphqN"
      }
    },
    {
      "cell_type": "code",
      "source": [
        "# Chart - 7 visualization code"
      ],
      "metadata": {
        "id": "lqAIGUfyphqO"
      },
      "execution_count": null,
      "outputs": []
    },
    {
      "cell_type": "code",
      "source": [
        "sns.countplot(data=df, x='reserved_room_type', hue='hotel')\n",
        "plt.title('Count of Reserved Room Types')\n",
        "plt.xlabel('Reserved Room Type')\n",
        "plt.ylabel('Count')\n",
        "plt.show()"
      ],
      "metadata": {
        "id": "V35b5nvoYOWp"
      },
      "execution_count": null,
      "outputs": []
    },
    {
      "cell_type": "markdown",
      "source": [
        "##### 1. Why did you pick the specific chart?"
      ],
      "metadata": {
        "id": "t27r6nlMphqO"
      }
    },
    {
      "cell_type": "markdown",
      "source": [
        "Answer Here."
      ],
      "metadata": {
        "id": "iv6ro40sphqO"
      }
    },
    {
      "cell_type": "markdown",
      "source": [
        "some reasons for choosing this specific chart:                             \n",
        "   Comparison between Categories                                           \n",
        "   The countplot with hue allows for a direct comparison of the count of reserved room types for each category of 'hotel.' This helps in assessing whether the distribution of reserved room types differs between hotel types.                                                   "
      ],
      "metadata": {
        "id": "7ZQqEQMGajTx"
      }
    },
    {
      "cell_type": "markdown",
      "source": [
        "##### 2. What is/are the insight(s) found from the chart?"
      ],
      "metadata": {
        "id": "r2jJGEOYphqO"
      }
    },
    {
      "cell_type": "markdown",
      "source": [
        "\n",
        "\n",
        "```\n",
        "\n",
        "```\n",
        "\n",
        "Answer Here"
      ],
      "metadata": {
        "id": "Po6ZPi4hphqO"
      }
    },
    {
      "cell_type": "markdown",
      "source": [
        "1. Overall Room Type Distribution:                                         \n",
        "   \n",
        "\n",
        "*   The countplot allows you to observe the overall distribution of reserved room types across different hotel types. You can see which room types are more commonly reserved.\n",
        "\n",
        "2. Popular Room Types by Hotel                                             \n",
        "\n",
        "\n",
        "\n",
        "*   The plot provides insights into which room types are more popular for reservations in each hotel type. This information can be valuable for room allocation and management strategies.\n",
        "\n",
        "\n",
        "\n",
        "\n"
      ],
      "metadata": {
        "id": "NuXyXI0Ahdhi"
      }
    },
    {
      "cell_type": "markdown",
      "source": [],
      "metadata": {
        "id": "3Mf-bbKLhTP4"
      }
    },
    {
      "cell_type": "markdown",
      "source": [
        "##### 3. Will the gained insights help creating a positive business impact?\n",
        "Are there any insights that lead to negative growth? Justify with specific reason."
      ],
      "metadata": {
        "id": "b0JNsNcRphqO"
      }
    },
    {
      "cell_type": "markdown",
      "source": [
        "Answer Here"
      ],
      "metadata": {
        "id": "xvSq8iUTphqO"
      }
    },
    {
      "cell_type": "markdown",
      "source": [
        "Positive Business Impact                                                   \n",
        "1.Room Allocation Optimization:                                            \n",
        "\n",
        "\n",
        "*   **Insight**: Understanding the popularity of specific room types allows for more effective room allocation and management.\n",
        "*   **Positive Impact**: Optimizing room allocation based on guest preferences can enhance overall guest satisfaction, leading to positive reviews and repeat business.\n",
        "\n",
        "2.Targeted Marketing and Promotions:                                       \n",
        "\n",
        "\n",
        "\n",
        "*   **Insight**: Identifying popular room types provides opportunities for targeted marketing and promotions.\n",
        "*  **Positive Impact**: Targeted promotions for popular room types can attract more bookings, increase revenue, and enhance the overall guest experience.\n",
        "\n",
        "\n"
      ],
      "metadata": {
        "id": "IWCoFGiCidVG"
      }
    },
    {
      "cell_type": "markdown",
      "source": [
        "#### Chart - 8"
      ],
      "metadata": {
        "id": "BZR9WyysphqO"
      }
    },
    {
      "cell_type": "code",
      "source": [
        "# Chart - 8 visualization code"
      ],
      "metadata": {
        "id": "TdPTWpAVphqO"
      },
      "execution_count": null,
      "outputs": []
    },
    {
      "cell_type": "code",
      "source": [
        "sns.countplot(data=df, x='deposit_type', hue='hotel')\n",
        "plt.title('Distribution of Deposit Types')\n",
        "plt.xlabel('Deposit Type')\n",
        "plt.ylabel('Count')\n",
        "plt.show()"
      ],
      "metadata": {
        "id": "vhdbmGM0k1-I"
      },
      "execution_count": null,
      "outputs": []
    },
    {
      "cell_type": "markdown",
      "source": [
        "##### 1. Why did you pick the specific chart?"
      ],
      "metadata": {
        "id": "jj7wYXLtphqO"
      }
    },
    {
      "cell_type": "markdown",
      "source": [
        "Answer Here."
      ],
      "metadata": {
        "id": "Ob8u6rCTphqO"
      }
    },
    {
      "cell_type": "markdown",
      "source": [
        " some reasons for choosing this specific chart:                            \n",
        " The countplot with hue allows for a direct comparison of the distribution of deposit types for each category of 'hotel.' This helps in assessing whether there are significant differences in the distribution of deposit types between hotel types."
      ],
      "metadata": {
        "id": "lQULkW-xve7b"
      }
    },
    {
      "cell_type": "markdown",
      "source": [
        "##### 2. What is/are the insight(s) found from the chart?"
      ],
      "metadata": {
        "id": "eZrbJ2SmphqO"
      }
    },
    {
      "cell_type": "markdown",
      "source": [
        "Answer Here"
      ],
      "metadata": {
        "id": "mZtgC_hjphqO"
      }
    },
    {
      "cell_type": "markdown",
      "source": [
        "1. **Preferred Deposit Types for Each Hotel**:\n",
        "\n",
        "*   The plot provides insights into which deposit types are more commonly associated with each hotel type. This information can be valuable for understanding the payment preferences of guests in different hotel segments.\n",
        "\n",
        "2. **Booking Behavior Variation:**                                         \n",
        "   \n",
        "    \n",
        "\n",
        "*   Understanding the distribution of deposit types for different hotel types contributes to insights into variations in booking behavior. For example, certain deposit types may be more prevalent in luxury hotels compared to budget hotels.\n",
        "\n",
        "\n",
        "\n",
        "\n"
      ],
      "metadata": {
        "id": "tRhnzweOwWcj"
      }
    },
    {
      "cell_type": "markdown",
      "source": [
        "##### 3. Will the gained insights help creating a positive business impact?\n",
        "Are there any insights that lead to negative growth? Justify with specific reason."
      ],
      "metadata": {
        "id": "rFu4xreNphqO"
      }
    },
    {
      "cell_type": "markdown",
      "source": [
        "Answer Here"
      ],
      "metadata": {
        "id": "ey_0qi68phqO"
      }
    },
    {
      "cell_type": "markdown",
      "source": [
        "**Positive Business Impact**:                                                  \n",
        "1.Revenue Optimization:\n",
        "\n",
        "*  **Insight**: Recognizing which deposit types are more commonly associated with specific hotel types provides opportunities for revenue optimization.\n",
        "*   **Positive Impact**: Hotels can adjust pricing strategies based on popular deposit options, potentially increasing overall revenue.           \n",
        "\n",
        "\n",
        "2.Operational Efficiency:\n",
        "\n",
        "\n",
        "\n",
        "*   **Insight**: Knowledge of deposit type preferences informs operational decisions related to payment processing.\n",
        "*   **Positive Impact**: Improved operational efficiency in handling preferred deposit types can enhance customer satisfaction and overall service quality.\n",
        "\n",
        "**Negative Business impact**:                                              \n",
        "Guest Dissatisfaction:                                                     \n",
        "\n",
        "\n",
        "\n",
        "*   **Insight**: If the most popular deposit type has strict cancellation policies, there may be a higher risk of guest dissatisfaction.\n",
        "*   **Negative Impact**: Unhappy guests are more likely to leave negative reviews, affecting the hotel's reputation and potentially leading to decreased future bookings.\n",
        "\n",
        "\n",
        "\n",
        "\n",
        "\n",
        "\n"
      ],
      "metadata": {
        "id": "VDCq8kJCyoJd"
      }
    },
    {
      "cell_type": "markdown",
      "source": [],
      "metadata": {
        "id": "vJaXp4vYw0bF"
      }
    },
    {
      "cell_type": "markdown",
      "source": [
        "#### Chart - 9"
      ],
      "metadata": {
        "id": "YJ55k-q6phqO"
      }
    },
    {
      "cell_type": "code",
      "source": [
        "# Chart - 9 visualization code"
      ],
      "metadata": {
        "id": "B2aS4O1ophqO"
      },
      "execution_count": null,
      "outputs": []
    },
    {
      "cell_type": "code",
      "source": [
        "sns.barplot(x='deposit_type', y='previous_cancellations', data=df, hue='hotel')\n",
        "plt.title('Previous Cancellations by Deposit Type')\n",
        "plt.xlabel('Deposit Type')\n",
        "plt.ylabel('Previous Cancellations')\n",
        "plt.show()"
      ],
      "metadata": {
        "id": "l1WMWIgvLc3B"
      },
      "execution_count": null,
      "outputs": []
    },
    {
      "cell_type": "markdown",
      "source": [
        "##### 1. Why did you pick the specific chart?"
      ],
      "metadata": {
        "id": "gCFgpxoyphqP"
      }
    },
    {
      "cell_type": "markdown",
      "source": [
        "Answer Here."
      ],
      "metadata": {
        "id": "TVxDimi2phqP"
      }
    },
    {
      "cell_type": "markdown",
      "source": [
        "some reasons for choosing this specific chart:                             \n",
        "A barplot allows for a clear visual comparison of the average or total 'previous_cancellations' for each category of 'deposit_type' while considering the 'hotel' variable as a differentiating factor. This is useful for identifying patterns and differences between deposit types within each hotel type."
      ],
      "metadata": {
        "id": "a2b0yiE9Ghp8"
      }
    },
    {
      "cell_type": "markdown",
      "source": [
        "##### 2. What is/are the insight(s) found from the chart?"
      ],
      "metadata": {
        "id": "OVtJsKN_phqQ"
      }
    },
    {
      "cell_type": "markdown",
      "source": [
        "Answer Here"
      ],
      "metadata": {
        "id": "ngGi97qjphqQ"
      }
    },
    {
      "cell_type": "markdown",
      "source": [
        "1.**Identification of High-Cancellation Scenarios**:                       \n",
        "\n",
        "\n",
        "*   Identify scenarios where certain deposit types are associated with higher 'previous_cancellations' rates. This information is valuable for understanding potential risk factors and operational challenges.           \n",
        "\n",
        "2.**Customer Behavior Insights**:                                          \n",
        "\n",
        "\n",
        "\n",
        "*   Assess whether there are discernible patterns in customer behavior related to deposit types. Understanding how customers behave in terms of cancellations based on deposit choices can inform customer engagement strategies.\n"
      ],
      "metadata": {
        "id": "4JI09OPBLZp_"
      }
    },
    {
      "cell_type": "markdown",
      "source": [
        "##### 3. Will the gained insights help creating a positive business impact?\n",
        "Are there any insights that lead to negative growth? Justify with specific reason."
      ],
      "metadata": {
        "id": "lssrdh5qphqQ"
      }
    },
    {
      "cell_type": "markdown",
      "source": [
        "Answer Here"
      ],
      "metadata": {
        "id": "tBpY5ekJphqQ"
      }
    },
    {
      "cell_type": "markdown",
      "source": [
        " **Positive business impact**\n",
        "1. **Tailored Marketing and Communication:**                               \n",
        "  \n",
        "\n",
        "*  **Insight:** Understanding the relationship between deposit types and previous cancellations allows for tailored marketing and communication strategies.\n",
        "*  **Positive Impact:** Tailoring messages to highlight the advantages of specific deposit types associated with lower cancellations can attract more bookings and enhance customer satisfaction.                           \n",
        "\n",
        "2. **Revenue Optimization:**                                               \n",
        "\n",
        "\n",
        "*   **Insight**: Recognizing deposit types with lower cancellations can inform pricing strategies.\n",
        "*   **Positive Impact**: Offering incentives or promotions for deposit types associated with lower cancellations can optimize revenue while attracting more bookings.                                                  \n",
        "\n",
        "**Negative business impact**                                               \n",
        "\n",
        " **Risk of Negative Impact on Revenue:**                                   \n",
        "\n",
        "\n",
        "*   **Insight**: If certain deposit types are associated with higher cancellations, there may be a risk of revenue loss.\n",
        "*  **Negative Impact:** Relying too heavily on deposit types with high cancellations can result in revenue fluctuations and financial uncertainty.\n",
        "\n",
        "\n",
        "\n",
        "\n",
        "\n",
        "\n"
      ],
      "metadata": {
        "id": "gZyHLHc-vWY_"
      }
    },
    {
      "cell_type": "markdown",
      "source": [
        "#### Chart - 10"
      ],
      "metadata": {
        "id": "U2RJ9gkRphqQ"
      }
    },
    {
      "cell_type": "code",
      "source": [
        "# Chart - 10 visualization code"
      ],
      "metadata": {
        "id": "GM7a4YP4phqQ"
      },
      "execution_count": null,
      "outputs": []
    },
    {
      "cell_type": "code",
      "source": [
        "sns.barplot(x='deposit_type', y='adr', data=df, hue='hotel')\n",
        "plt.title('ADR by Deposit Type')\n",
        "plt.xlabel('Deposit Type')\n",
        "plt.ylabel('ADR')\n",
        "plt.show()"
      ],
      "metadata": {
        "id": "cSwd7GyTB6po"
      },
      "execution_count": null,
      "outputs": []
    },
    {
      "cell_type": "markdown",
      "source": [
        "##### 1. Why did you pick the specific chart?"
      ],
      "metadata": {
        "id": "1M8mcRywphqQ"
      }
    },
    {
      "cell_type": "markdown",
      "source": [
        "Answer Here."
      ],
      "metadata": {
        "id": "8agQvks0phqQ"
      }
    },
    {
      "cell_type": "markdown",
      "source": [
        "**some reasons for choosing this specific chart**:                             \n",
        "A barplot allows for a clear visual comparison of the average daily rates for each category of 'deposit_type' while considering the 'hotel' variable as a differentiating factor. This is useful for identifying patterns and differences in average daily rates between deposit types within each hotel type."
      ],
      "metadata": {
        "id": "XVTdY0uZyXkK"
      }
    },
    {
      "cell_type": "markdown",
      "source": [
        "##### 2. What is/are the insight(s) found from the chart?"
      ],
      "metadata": {
        "id": "tgIPom80phqQ"
      }
    },
    {
      "cell_type": "markdown",
      "source": [
        "Answer Here"
      ],
      "metadata": {
        "id": "Qp13pnNzphqQ"
      }
    },
    {
      "cell_type": "markdown",
      "source": [
        "**Impact of Deposit Type on Pricing:**\n",
        "\n",
        "\n",
        "*   Analyze whether there's a noticeable difference in the average daily rates based on the type of deposit made. This can provide insights into how the deposit type influences pricing strategies.                        \n",
        "\n",
        "**identification of Pricing Strategies:**                                  \n",
        "\n",
        "\n",
        "*   Identify scenarios where certain deposit types are associated with higher or lower average daily rates. This information is valuable for understanding the pricing strategies related to deposit types.\n",
        "\n",
        "\n",
        "\n",
        "\n"
      ],
      "metadata": {
        "id": "NtfgtKw-0RCa"
      }
    },
    {
      "cell_type": "markdown",
      "source": [
        "##### 3. Will the gained insights help creating a positive business impact?\n",
        "Are there any insights that lead to negative growth? Justify with specific reason."
      ],
      "metadata": {
        "id": "JMzcOPDDphqR"
      }
    },
    {
      "cell_type": "markdown",
      "source": [
        "Answer Here"
      ],
      "metadata": {
        "id": "R4Ka1PC2phqR"
      }
    },
    {
      "cell_type": "markdown",
      "source": [
        "**Positive Business Impact:**                                              \n",
        "1.**Increased Revenue Potential:**                                         \n",
        "\n",
        "\n",
        "*   **Insight**: Identifying scenarios where certain deposit types are associated with higher average daily rates can lead to revenue optimization.\n",
        "*   **Positive Impact**: Offering promotions or incentives for deposit types associated with higher rates can increase overall revenue.\n",
        "\n",
        "\n",
        "2. **Market Competitiveness**:                                             \n",
        "    \n",
        "\n",
        "*   **Insight**: Comparing average daily rates with competitors can inform decisions on market competitiveness.\n",
        "*   **Positive Impact**: Adjusting pricing strategies to align with or differentiate from competitors can help maintain or gain market share.\n",
        "\n",
        "**Negative business impact**                                               \n",
        "\n",
        "**Risk of High Pricing Dissatisfaction**:                                  \n",
        "\n",
        "*  **Insight**: High average daily rates associated with certain deposit types may lead to dissatisfaction.\n",
        "*   **Negative Impact**: If customers perceive prices as too high, it can result in negative reviews, decreased customer loyalty, and a potential negative impact on growth.\n",
        "\n",
        "\n"
      ],
      "metadata": {
        "id": "a0PjAsN16BwV"
      }
    },
    {
      "cell_type": "markdown",
      "source": [
        "#### Chart - 11"
      ],
      "metadata": {
        "id": "x-EpHcCOp1ci"
      }
    },
    {
      "cell_type": "code",
      "source": [
        "# Chart - 11 visualization code"
      ],
      "metadata": {
        "id": "mAQTIvtqp1cj"
      },
      "execution_count": null,
      "outputs": []
    },
    {
      "cell_type": "code",
      "source": [
        "sns.barplot(x='assigned_room_type', y='adr', data=df, hue = 'hotel')\n",
        "plt.title('ADR by Room Type')\n",
        "plt.xlabel('Room Type')\n",
        "plt.ylabel('ADR')\n",
        "plt.show()"
      ],
      "metadata": {
        "id": "BU635qYyCEz8"
      },
      "execution_count": null,
      "outputs": []
    },
    {
      "cell_type": "markdown",
      "source": [
        "##### 1. Why did you pick the specific chart?"
      ],
      "metadata": {
        "id": "X_VqEhTip1ck"
      }
    },
    {
      "cell_type": "markdown",
      "source": [
        "Answer Here."
      ],
      "metadata": {
        "id": "-vsMzt_np1ck"
      }
    },
    {
      "cell_type": "markdown",
      "source": [
        " some reasons for choosing this specific chart:    \n",
        "A barplot allows for a clear visual comparison of the average daily rates for each category of 'assigned_room_type' while considering the 'hotel' variable as a differentiating factor. This is useful for identifying patterns and differences in average daily rates between room types within each hotel type."
      ],
      "metadata": {
        "id": "iaXq1E8lD6yV"
      }
    },
    {
      "cell_type": "markdown",
      "source": [
        "##### 2. What is/are the insight(s) found from the chart?"
      ],
      "metadata": {
        "id": "8zGJKyg5p1ck"
      }
    },
    {
      "cell_type": "markdown",
      "source": [
        "Answer Here"
      ],
      "metadata": {
        "id": "ZYdMsrqVp1ck"
      }
    },
    {
      "cell_type": "markdown",
      "source": [
        "**Customer Room Type Preferences:**                                        \n",
        "\n",
        "\n",
        "*   Assess whether there are discernible patterns in customer preferences for specific room types. Understanding these preferences can inform future room allocation strategies.\n",
        "\n",
        "**Seasonal or Event-Driven Trends:**                                       \n",
        "\n",
        "\n",
        "\n",
        "*   Explore whether there are specific room types that show variations in average daily rates based on seasons or events. This information can be valuable for adapting pricing strategies to seasonal demand.\n",
        "   \n",
        "\n",
        "\n",
        "\n"
      ],
      "metadata": {
        "id": "-cwMjYFgEaHT"
      }
    },
    {
      "cell_type": "markdown",
      "source": [],
      "metadata": {
        "id": "0evUVqQqEEnM"
      }
    },
    {
      "cell_type": "markdown",
      "source": [
        "##### 3. Will the gained insights help creating a positive business impact?\n",
        "Are there any insights that lead to negative growth? Justify with specific reason."
      ],
      "metadata": {
        "id": "PVzmfK_Ep1ck"
      }
    },
    {
      "cell_type": "markdown",
      "source": [
        "Answer Here"
      ],
      "metadata": {
        "id": "druuKYZpp1ck"
      }
    },
    {
      "cell_type": "markdown",
      "source": [
        "**Positive Business Impact:**\n",
        "\n",
        " **Optimized Room Pricing:**                                               \n",
        "\n",
        "\n",
        "*   **Insight**: Understanding how average daily rates vary across assigned room types allows for optimized pricing strategies.\n",
        "*  **Positive Impact**: Tailoring pricing based on room types can attract customers who are willing to pay more for certain room features, leading to increased revenue.\n"
      ],
      "metadata": {
        "id": "QR836x0YGx3Y"
      }
    },
    {
      "cell_type": "markdown",
      "source": [],
      "metadata": {
        "id": "EB78ozOqFmix"
      }
    },
    {
      "cell_type": "markdown",
      "source": [
        "#### Chart - 12"
      ],
      "metadata": {
        "id": "n3dbpmDWp1ck"
      }
    },
    {
      "cell_type": "code",
      "source": [
        "# Chart - 12 visualization code"
      ],
      "metadata": {
        "id": "bwevp1tKp1ck"
      },
      "execution_count": null,
      "outputs": []
    },
    {
      "cell_type": "markdown",
      "source": [
        "##### 1. Why did you pick the specific chart?"
      ],
      "metadata": {
        "id": "ylSl6qgtp1ck"
      }
    },
    {
      "cell_type": "markdown",
      "source": [
        "Answer Here."
      ],
      "metadata": {
        "id": "m2xqNkiQp1ck"
      }
    },
    {
      "cell_type": "markdown",
      "source": [
        "some reasons for choosing this specific chart:  \n",
        "Countplots display the frequency of each category, making it easy to understand how often each value occurs in the dataset. This is particularly useful when exploring the distribution of discrete values like the number of required car parking spaces."
      ],
      "metadata": {
        "id": "Su9QKX6tMlHW"
      }
    },
    {
      "cell_type": "markdown",
      "source": [
        "##### 2. What is/are the insight(s) found from the chart?"
      ],
      "metadata": {
        "id": "ZWILFDl5p1ck"
      }
    },
    {
      "cell_type": "markdown",
      "source": [
        "Answer Here"
      ],
      "metadata": {
        "id": "x-lUsV2mp1ck"
      }
    },
    {
      "cell_type": "markdown",
      "source": [
        "1.**Customer Preferences:**                                                \n",
        "  \n",
        "\n",
        "*   Analyze whether there are patterns related to customer preferences for parking spaces. Understanding the distribution can help hotels tailor their services to meet customer expectations regarding parking.\n",
        "\n",
        "2.**Strategic Planning:**                                                  \n",
        "\n",
        "\n",
        "*   Use the insights to inform strategic planning related to parking facilities. If there's a clear trend in parking space requirements, hotels can plan and allocate resources accordingly.\n",
        "\n",
        "\n",
        "\n",
        "\n"
      ],
      "metadata": {
        "id": "804vtBFTMxWp"
      }
    },
    {
      "cell_type": "markdown",
      "source": [
        "##### 3. Will the gained insights help creating a positive business impact?\n",
        "Are there any insights that lead to negative growth? Justify with specific reason."
      ],
      "metadata": {
        "id": "M7G43BXep1ck"
      }
    },
    {
      "cell_type": "markdown",
      "source": [
        "Answer Here"
      ],
      "metadata": {
        "id": "5wwDJXsLp1cl"
      }
    },
    {
      "cell_type": "markdown",
      "source": [
        "**Positive Business Impact:**\n",
        "\n",
        "**Tailored Services:**                                                     \n",
        "\n",
        "\n",
        "*  **Insight**: Understanding the parking space requirements allows hotels to tailor their services to meet customer expectations.\n",
        "*  **Positive Impact**: By providing the appropriate number of parking spaces, hotels can enhance customer satisfaction, leading to positive reviews, repeat business, and positive word-of-mouth.\n",
        "\n"
      ],
      "metadata": {
        "id": "RMc4h3xVNver"
      }
    },
    {
      "cell_type": "markdown",
      "source": [
        "#### Chart - 13"
      ],
      "metadata": {
        "id": "Ag9LCva-p1cl"
      }
    },
    {
      "cell_type": "code",
      "source": [
        "# Chart - 13 visualization code"
      ],
      "metadata": {
        "id": "EUfxeq9-p1cl"
      },
      "execution_count": null,
      "outputs": []
    },
    {
      "cell_type": "code",
      "source": [
        "sns.countplot(data=df, x='reservation_status', hue='hotel')\n",
        "plt.title('Reservation Status Distribution')\n",
        "plt.xlabel('Reservation Status')\n",
        "plt.ylabel('Count')\n",
        "plt.show()"
      ],
      "metadata": {
        "id": "TuuPRSZef3q5"
      },
      "execution_count": null,
      "outputs": []
    },
    {
      "cell_type": "markdown",
      "source": [
        "##### 1. Why did you pick the specific chart?"
      ],
      "metadata": {
        "id": "E6MkPsBcp1cl"
      }
    },
    {
      "cell_type": "markdown",
      "source": [
        "Answer Here."
      ],
      "metadata": {
        "id": "V22bRsFWp1cl"
      }
    },
    {
      "cell_type": "markdown",
      "source": [
        "some reasons for choosing this specific chart:            \n",
        "Countplots display the frequency of each category, making it easy to understand how often each reservation status occurs in the dataset. This is particularly useful when exploring the distribution of discrete values like reservation statuses."
      ],
      "metadata": {
        "id": "EXrkYPmZg1FI"
      }
    },
    {
      "cell_type": "markdown",
      "source": [
        "##### 2. What is/are the insight(s) found from the chart?"
      ],
      "metadata": {
        "id": "2cELzS2fp1cl"
      }
    },
    {
      "cell_type": "markdown",
      "source": [
        "Answer Here"
      ],
      "metadata": {
        "id": "ozQPc2_Ip1cl"
      }
    },
    {
      "cell_type": "markdown",
      "source": [
        "1.**Booking Success Rate:**                                                \n",
        " Evaluate the count of reservations in the 'booked' status to understand the overall booking success rate. A higher count in the 'booked' category suggests a higher success rate in securing reservations.                  \n",
        "\n",
        "2.**Booking Trends Over Time:**                                            \n",
        "If your dataset includes a timestamp, analyze whether there are trends in reservation statuses over time. This can reveal seasonality, promotional impacts, or external factors affecting booking behavior.\n",
        "\n"
      ],
      "metadata": {
        "id": "SMWCAMfyhktH"
      }
    },
    {
      "cell_type": "markdown",
      "source": [
        "##### 3. Will the gained insights help creating a positive business impact?\n",
        "Are there any insights that lead to negative growth? Justify with specific reason."
      ],
      "metadata": {
        "id": "3MPXvC8up1cl"
      }
    },
    {
      "cell_type": "markdown",
      "source": [
        "Answer Here"
      ],
      "metadata": {
        "id": "GL8l1tdLp1cl"
      }
    },
    {
      "cell_type": "markdown",
      "source": [
        "**Positive Business Impact:**                                              \n",
        "Optimized Booking Strategies:                                              \n",
        "\n",
        "\n",
        "*   **Insight**: Understanding the distribution of reservation statuses allows hotels to optimize booking strategies.\n",
        "*   **Positive Impact**: By analyzing successful bookings and identifying patterns leading to check-ins, hotels can refine their marketing and reservation management strategies to increase successful bookings, leading to positive growth.\n",
        "\n"
      ],
      "metadata": {
        "id": "9TBQSQ6sOI-N"
      }
    },
    {
      "cell_type": "markdown",
      "source": [
        "#### Chart - 14 - Correlation Heatmap"
      ],
      "metadata": {
        "id": "NC_X3p0fY2L0"
      }
    },
    {
      "cell_type": "code",
      "source": [
        "# Correlation Heatmap visualization code"
      ],
      "metadata": {
        "id": "xyC9zolEZNRQ"
      },
      "execution_count": null,
      "outputs": []
    },
    {
      "cell_type": "code",
      "source": [
        "numeric_data = df.select_dtypes(include='number')\n",
        "\n",
        "# Calculate the correlation matrix\n",
        "correlation_matrix = numeric_data.corr()\n",
        "\n",
        "# Create a heatmap\n",
        "plt.figure(figsize=(12, 8))\n",
        "sns.heatmap(correlation_matrix, annot=True, cmap='coolwarm', fmt=\".2f\", linewidths=0.5)\n",
        "plt.title('Correlation Heatmap')\n",
        "plt.show()\n"
      ],
      "metadata": {
        "id": "Jp4mBsTLPEAF"
      },
      "execution_count": null,
      "outputs": []
    },
    {
      "cell_type": "markdown",
      "source": [
        "##### 1. Why did you pick the specific chart?"
      ],
      "metadata": {
        "id": "UV0SzAkaZNRQ"
      }
    },
    {
      "cell_type": "markdown",
      "source": [
        "Answer Here."
      ],
      "metadata": {
        "id": "DVPuT8LYZNRQ"
      }
    },
    {
      "cell_type": "markdown",
      "source": [
        "reasons for choosing this specific chart:                                  \n",
        "\n",
        "Correlation Analysis:\n",
        "*   The heatmap is specifically designed for displaying the correlation matrix, making it easy to identify patterns and relationships between numerical variables.\n",
        "\n",
        "Visual Clarity:\n",
        "*   LHeatmaps use color gradients to represent the strength and direction of correlations. This makes it visually clear and intuitive for users to identify which variables are positively or negatively correlated.\n",
        "\n"
      ],
      "metadata": {
        "id": "iTQLfzI5QH0F"
      }
    },
    {
      "cell_type": "markdown",
      "source": [
        "##### 2. What is/are the insight(s) found from the chart?"
      ],
      "metadata": {
        "id": "YPEH6qLeZNRQ"
      }
    },
    {
      "cell_type": "markdown",
      "source": [
        "Answer Here"
      ],
      "metadata": {
        "id": "bfSqtnDqZNRR"
      }
    },
    {
      "cell_type": "markdown",
      "source": [
        "1. Strength and Direction of Correlations:                                 \n",
        "  \n",
        "\n",
        "*   Positive Correlation (Warmer Colors): Variables with warmer colors indicate a positive correlation, suggesting that as one variable increases, the other tends to increase as well.\n",
        "*   Negative Correlation (Cooler Colors): Cooler colors represent a negative correlation, implying that as one variable increases, the other tends to decrease.                                                         \n",
        "\n",
        "\n",
        "  2.Identifying Strong Correlations:\n",
        "                                       \n",
        "  Focus on cells with darker colors or values close to 1 or -1. These indicate strong correlations. Strong positive correlations suggest that the variables move together, while strong negative correlations suggest an inverse relationship.\n",
        "\n"
      ],
      "metadata": {
        "id": "Vmt1-Xw9QiGs"
      }
    },
    {
      "cell_type": "markdown",
      "source": [
        "#### Chart - 15 - Pair Plot"
      ],
      "metadata": {
        "id": "q29F0dvdveiT"
      }
    },
    {
      "cell_type": "code",
      "source": [
        "# Pair Plot visualization code"
      ],
      "metadata": {
        "id": "o58-TEIhveiU"
      },
      "execution_count": null,
      "outputs": []
    },
    {
      "cell_type": "code",
      "source": [
        "# Assuming 'data' is your DataFrame\n",
        "selected_columns = ['lead_time', 'arrival_date_week_number', 'stays_in_weekend_nights', 'stays_in_week_nights', 'adults', 'children', 'babies']\n",
        "subset_data = df[selected_columns]\n",
        "\n",
        "# Create a pair plot\n",
        "sns.pairplot(subset_data)\n",
        "plt.show()\n",
        "\n"
      ],
      "metadata": {
        "id": "Y09AmF8GSQav"
      },
      "execution_count": null,
      "outputs": []
    },
    {
      "cell_type": "markdown",
      "source": [
        "##### 1. Why did you pick the specific chart?"
      ],
      "metadata": {
        "id": "EXh0U9oCveiU"
      }
    },
    {
      "cell_type": "markdown",
      "source": [
        "Answer Here."
      ],
      "metadata": {
        "id": "eMmPjTByveiU"
      }
    },
    {
      "cell_type": "markdown",
      "source": [
        "**the reasons for selecting this specific chart:**                         \n",
        "1.) **Quick Identification of Patterns:**                                  \n",
        "    By displaying relationships in a grid, a pair plot allows for a quick identification of potential patterns or clusters in the data. This is especially useful when dealing with several variables.                 \n",
        "\n",
        "2.) **Multivariate Exploration:**                                        \n",
        "    Pair plots facilitate the exploration of multivariate relationships, making them valuable in understanding how multiple variables interact with each other.  "
      ],
      "metadata": {
        "id": "ISqwNDhGcLWd"
      }
    },
    {
      "cell_type": "markdown",
      "source": [
        "##### 2. What is/are the insight(s) found from the chart?"
      ],
      "metadata": {
        "id": "22aHeOlLveiV"
      }
    },
    {
      "cell_type": "markdown",
      "source": [
        "Answer Here"
      ],
      "metadata": {
        "id": "uPQ8RGwHveiV"
      }
    },
    {
      "cell_type": "markdown",
      "source": [
        "1.)**Correlation strength and direction**:\n",
        "\n",
        "Look for patterns in scatter plots to assess the strength and direction of correlations. Positive correlations may be indicated by points sloping upwards, while negative correlations may be indicated by points sloping downwards.                                                                 \n",
        "\n",
        "2.)**Outlier Detection:**\n",
        "\n",
        "Outlying points: Identify any points that appear as outliers in the scatter plots. Outliers can impact statistical analyses and may require further investigation."
      ],
      "metadata": {
        "id": "OEloKRK_fb-S"
      }
    },
    {
      "cell_type": "markdown",
      "source": [
        "## **5. Solution to Business Objective**"
      ],
      "metadata": {
        "id": "JcMwzZxoAimU"
      }
    },
    {
      "cell_type": "markdown",
      "source": [
        "#### What do you suggest the client to achieve Business Objective ?\n",
        "Explain Briefly."
      ],
      "metadata": {
        "id": "8G2x9gOozGDZ"
      }
    },
    {
      "cell_type": "markdown",
      "source": [
        "Answer Here."
      ],
      "metadata": {
        "id": "pASKb0qOza21"
      }
    },
    {
      "cell_type": "markdown",
      "source": [
        "1.) **Further develop Booking Transformations:**\n",
        "\n",
        "Investigate factors affecting effective appointments. Distinguish examples, inclinations, and ways of behaving of visitors who complete appointments. Improve the booking system in view of these bits of knowledge.                                                                 \n",
        "\n",
        "2.) **Reduce Cancellations:**\n",
        "\n",
        "Investigate reasons for cancellations. Implement strategies to reduce cancellations, such as personalized promotions, flexible cancellation policies, or targeted communication to address potential concerns.         \n",
        "\n",
        "3.) **Marketing and Promotion:**\n",
        "\n",
        "Develop targeted marketing campaigns based on guest demographics, preferences, and booking patterns. Use data-driven insights to tailor promotions and advertisements effectively.                                 \n",
        "\n",
        "4.) **Predictive Analytics for Demand Forecasting:**\n",
        "\n",
        "Utilize predictive analytics to forecast future demand. This can help in strategic planning, optimizing inventory, and ensuring that the hotel is well-prepared for fluctuations in booking volumes.                         \n",
        "\n",
        "5.) **Competitive Benchmarking:**\n",
        "\n",
        "Benchmark the hotel's performance against competitors. Analyze market trends, pricing strategies, and customer satisfaction levels to identify areas for improvement and differentiation.\n"
      ],
      "metadata": {
        "id": "KcOgI3WB60sL"
      }
    },
    {
      "cell_type": "markdown",
      "source": [
        "# **Conclusion**"
      ],
      "metadata": {
        "id": "gCX9965dhzqZ"
      }
    },
    {
      "cell_type": "markdown",
      "source": [
        "Write the conclusion here."
      ],
      "metadata": {
        "id": "Fjb1IsQkh3yE"
      }
    },
    {
      "cell_type": "markdown",
      "source": [
        "Some key takeaways from the analysis:                                      \n",
        "1.) **Booking Examples:**\n",
        "\n",
        "The dataset uncovers designs in booking conduct, including top booking periods and occasional varieties. Understanding these examples can assist with enhancing asset designation and staffing levels.                      \n",
        "\n",
        "2.) **Cancellation Management:**\n",
        "\n",
        "High cancellation rates are observed, indicating a potential area for improvement. Strategies such as flexible cancellation policies or targeted promotions could be implemented to reduce cancellations and increase revenue.                                                                    \n",
        "3.) **Risk Management:**\n",
        "\n",
        "Predictive analytics can aid in forecasting demand and identifying potential risks. Developing contingency plans based on historical data can mitigate the impact of external factors on hotel operations."
      ],
      "metadata": {
        "id": "x8ugkd9l9mw5"
      }
    },
    {
      "cell_type": "markdown",
      "source": [
        "### ***Hurrah! You have successfully completed your EDA Capstone Project !!!***"
      ],
      "metadata": {
        "id": "gIfDvo9L0UH2"
      }
    }
  ]
}